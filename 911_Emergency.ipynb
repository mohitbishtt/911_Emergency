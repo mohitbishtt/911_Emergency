{
 "cells": [
  {
   "cell_type": "code",
   "execution_count": 1,
   "metadata": {},
   "outputs": [],
   "source": [
    "import pandas as pd"
   ]
  },
  {
   "cell_type": "code",
   "execution_count": 2,
   "metadata": {},
   "outputs": [],
   "source": [
    "data=pd.read_csv('911.csv')"
   ]
  },
  {
   "cell_type": "code",
   "execution_count": 3,
   "metadata": {},
   "outputs": [
    {
     "data": {
      "text/html": [
       "<div>\n",
       "<style scoped>\n",
       "    .dataframe tbody tr th:only-of-type {\n",
       "        vertical-align: middle;\n",
       "    }\n",
       "\n",
       "    .dataframe tbody tr th {\n",
       "        vertical-align: top;\n",
       "    }\n",
       "\n",
       "    .dataframe thead th {\n",
       "        text-align: right;\n",
       "    }\n",
       "</style>\n",
       "<table border=\"1\" class=\"dataframe\">\n",
       "  <thead>\n",
       "    <tr style=\"text-align: right;\">\n",
       "      <th></th>\n",
       "      <th>lat</th>\n",
       "      <th>lng</th>\n",
       "      <th>desc</th>\n",
       "      <th>zip</th>\n",
       "      <th>title</th>\n",
       "      <th>timeStamp</th>\n",
       "      <th>twp</th>\n",
       "      <th>addr</th>\n",
       "      <th>e</th>\n",
       "    </tr>\n",
       "  </thead>\n",
       "  <tbody>\n",
       "    <tr>\n",
       "      <th>0</th>\n",
       "      <td>40.297876</td>\n",
       "      <td>-75.581294</td>\n",
       "      <td>REINDEER CT &amp; DEAD END;  NEW HANOVER; Station ...</td>\n",
       "      <td>19525.0</td>\n",
       "      <td>EMS: BACK PAINS/INJURY</td>\n",
       "      <td>2015-12-10 17:10:52</td>\n",
       "      <td>NEW HANOVER</td>\n",
       "      <td>REINDEER CT &amp; DEAD END</td>\n",
       "      <td>1</td>\n",
       "    </tr>\n",
       "    <tr>\n",
       "      <th>1</th>\n",
       "      <td>40.258061</td>\n",
       "      <td>-75.264680</td>\n",
       "      <td>BRIAR PATH &amp; WHITEMARSH LN;  HATFIELD TOWNSHIP...</td>\n",
       "      <td>19446.0</td>\n",
       "      <td>EMS: DIABETIC EMERGENCY</td>\n",
       "      <td>2015-12-10 17:29:21</td>\n",
       "      <td>HATFIELD TOWNSHIP</td>\n",
       "      <td>BRIAR PATH &amp; WHITEMARSH LN</td>\n",
       "      <td>1</td>\n",
       "    </tr>\n",
       "    <tr>\n",
       "      <th>2</th>\n",
       "      <td>40.121182</td>\n",
       "      <td>-75.351975</td>\n",
       "      <td>HAWS AVE; NORRISTOWN; 2015-12-10 @ 14:39:21-St...</td>\n",
       "      <td>19401.0</td>\n",
       "      <td>Fire: GAS-ODOR/LEAK</td>\n",
       "      <td>2015-12-10 14:39:21</td>\n",
       "      <td>NORRISTOWN</td>\n",
       "      <td>HAWS AVE</td>\n",
       "      <td>1</td>\n",
       "    </tr>\n",
       "    <tr>\n",
       "      <th>3</th>\n",
       "      <td>40.116153</td>\n",
       "      <td>-75.343513</td>\n",
       "      <td>AIRY ST &amp; SWEDE ST;  NORRISTOWN; Station 308A;...</td>\n",
       "      <td>19401.0</td>\n",
       "      <td>EMS: CARDIAC EMERGENCY</td>\n",
       "      <td>2015-12-10 16:47:36</td>\n",
       "      <td>NORRISTOWN</td>\n",
       "      <td>AIRY ST &amp; SWEDE ST</td>\n",
       "      <td>1</td>\n",
       "    </tr>\n",
       "    <tr>\n",
       "      <th>4</th>\n",
       "      <td>40.251492</td>\n",
       "      <td>-75.603350</td>\n",
       "      <td>CHERRYWOOD CT &amp; DEAD END;  LOWER POTTSGROVE; S...</td>\n",
       "      <td>NaN</td>\n",
       "      <td>EMS: DIZZINESS</td>\n",
       "      <td>2015-12-10 16:56:52</td>\n",
       "      <td>LOWER POTTSGROVE</td>\n",
       "      <td>CHERRYWOOD CT &amp; DEAD END</td>\n",
       "      <td>1</td>\n",
       "    </tr>\n",
       "  </tbody>\n",
       "</table>\n",
       "</div>"
      ],
      "text/plain": [
       "         lat        lng                                               desc  \\\n",
       "0  40.297876 -75.581294  REINDEER CT & DEAD END;  NEW HANOVER; Station ...   \n",
       "1  40.258061 -75.264680  BRIAR PATH & WHITEMARSH LN;  HATFIELD TOWNSHIP...   \n",
       "2  40.121182 -75.351975  HAWS AVE; NORRISTOWN; 2015-12-10 @ 14:39:21-St...   \n",
       "3  40.116153 -75.343513  AIRY ST & SWEDE ST;  NORRISTOWN; Station 308A;...   \n",
       "4  40.251492 -75.603350  CHERRYWOOD CT & DEAD END;  LOWER POTTSGROVE; S...   \n",
       "\n",
       "       zip                    title            timeStamp                twp  \\\n",
       "0  19525.0   EMS: BACK PAINS/INJURY  2015-12-10 17:10:52        NEW HANOVER   \n",
       "1  19446.0  EMS: DIABETIC EMERGENCY  2015-12-10 17:29:21  HATFIELD TOWNSHIP   \n",
       "2  19401.0      Fire: GAS-ODOR/LEAK  2015-12-10 14:39:21         NORRISTOWN   \n",
       "3  19401.0   EMS: CARDIAC EMERGENCY  2015-12-10 16:47:36         NORRISTOWN   \n",
       "4      NaN           EMS: DIZZINESS  2015-12-10 16:56:52   LOWER POTTSGROVE   \n",
       "\n",
       "                         addr  e  \n",
       "0      REINDEER CT & DEAD END  1  \n",
       "1  BRIAR PATH & WHITEMARSH LN  1  \n",
       "2                    HAWS AVE  1  \n",
       "3          AIRY ST & SWEDE ST  1  \n",
       "4    CHERRYWOOD CT & DEAD END  1  "
      ]
     },
     "execution_count": 3,
     "metadata": {},
     "output_type": "execute_result"
    }
   ],
   "source": [
    "data.head()"
   ]
  },
  {
   "cell_type": "code",
   "execution_count": 4,
   "metadata": {},
   "outputs": [
    {
     "data": {
      "text/plain": [
       "0     EMS: BACK PAINS/INJURY\n",
       "1    EMS: DIABETIC EMERGENCY\n",
       "2        Fire: GAS-ODOR/LEAK\n",
       "3     EMS: CARDIAC EMERGENCY\n",
       "4             EMS: DIZZINESS\n",
       "Name: title, dtype: object"
      ]
     },
     "execution_count": 4,
     "metadata": {},
     "output_type": "execute_result"
    }
   ],
   "source": [
    "data.title.head()"
   ]
  },
  {
   "cell_type": "code",
   "execution_count": 5,
   "metadata": {},
   "outputs": [],
   "source": [
    "def title_sep(x):\n",
    "    x=x.split(':')\n",
    "    return x[0]"
   ]
  },
  {
   "cell_type": "code",
   "execution_count": 6,
   "metadata": {},
   "outputs": [],
   "source": [
    "data['type_of_call']=data['title'].apply(title_sep)"
   ]
  },
  {
   "cell_type": "code",
   "execution_count": 7,
   "metadata": {},
   "outputs": [
    {
     "data": {
      "text/html": [
       "<div>\n",
       "<style scoped>\n",
       "    .dataframe tbody tr th:only-of-type {\n",
       "        vertical-align: middle;\n",
       "    }\n",
       "\n",
       "    .dataframe tbody tr th {\n",
       "        vertical-align: top;\n",
       "    }\n",
       "\n",
       "    .dataframe thead th {\n",
       "        text-align: right;\n",
       "    }\n",
       "</style>\n",
       "<table border=\"1\" class=\"dataframe\">\n",
       "  <thead>\n",
       "    <tr style=\"text-align: right;\">\n",
       "      <th></th>\n",
       "      <th>lat</th>\n",
       "      <th>lng</th>\n",
       "      <th>desc</th>\n",
       "      <th>zip</th>\n",
       "      <th>title</th>\n",
       "      <th>timeStamp</th>\n",
       "      <th>twp</th>\n",
       "      <th>addr</th>\n",
       "      <th>e</th>\n",
       "      <th>type_of_call</th>\n",
       "    </tr>\n",
       "  </thead>\n",
       "  <tbody>\n",
       "    <tr>\n",
       "      <th>0</th>\n",
       "      <td>40.297876</td>\n",
       "      <td>-75.581294</td>\n",
       "      <td>REINDEER CT &amp; DEAD END;  NEW HANOVER; Station ...</td>\n",
       "      <td>19525.0</td>\n",
       "      <td>EMS: BACK PAINS/INJURY</td>\n",
       "      <td>2015-12-10 17:10:52</td>\n",
       "      <td>NEW HANOVER</td>\n",
       "      <td>REINDEER CT &amp; DEAD END</td>\n",
       "      <td>1</td>\n",
       "      <td>EMS</td>\n",
       "    </tr>\n",
       "    <tr>\n",
       "      <th>1</th>\n",
       "      <td>40.258061</td>\n",
       "      <td>-75.264680</td>\n",
       "      <td>BRIAR PATH &amp; WHITEMARSH LN;  HATFIELD TOWNSHIP...</td>\n",
       "      <td>19446.0</td>\n",
       "      <td>EMS: DIABETIC EMERGENCY</td>\n",
       "      <td>2015-12-10 17:29:21</td>\n",
       "      <td>HATFIELD TOWNSHIP</td>\n",
       "      <td>BRIAR PATH &amp; WHITEMARSH LN</td>\n",
       "      <td>1</td>\n",
       "      <td>EMS</td>\n",
       "    </tr>\n",
       "    <tr>\n",
       "      <th>2</th>\n",
       "      <td>40.121182</td>\n",
       "      <td>-75.351975</td>\n",
       "      <td>HAWS AVE; NORRISTOWN; 2015-12-10 @ 14:39:21-St...</td>\n",
       "      <td>19401.0</td>\n",
       "      <td>Fire: GAS-ODOR/LEAK</td>\n",
       "      <td>2015-12-10 14:39:21</td>\n",
       "      <td>NORRISTOWN</td>\n",
       "      <td>HAWS AVE</td>\n",
       "      <td>1</td>\n",
       "      <td>Fire</td>\n",
       "    </tr>\n",
       "    <tr>\n",
       "      <th>3</th>\n",
       "      <td>40.116153</td>\n",
       "      <td>-75.343513</td>\n",
       "      <td>AIRY ST &amp; SWEDE ST;  NORRISTOWN; Station 308A;...</td>\n",
       "      <td>19401.0</td>\n",
       "      <td>EMS: CARDIAC EMERGENCY</td>\n",
       "      <td>2015-12-10 16:47:36</td>\n",
       "      <td>NORRISTOWN</td>\n",
       "      <td>AIRY ST &amp; SWEDE ST</td>\n",
       "      <td>1</td>\n",
       "      <td>EMS</td>\n",
       "    </tr>\n",
       "    <tr>\n",
       "      <th>4</th>\n",
       "      <td>40.251492</td>\n",
       "      <td>-75.603350</td>\n",
       "      <td>CHERRYWOOD CT &amp; DEAD END;  LOWER POTTSGROVE; S...</td>\n",
       "      <td>NaN</td>\n",
       "      <td>EMS: DIZZINESS</td>\n",
       "      <td>2015-12-10 16:56:52</td>\n",
       "      <td>LOWER POTTSGROVE</td>\n",
       "      <td>CHERRYWOOD CT &amp; DEAD END</td>\n",
       "      <td>1</td>\n",
       "      <td>EMS</td>\n",
       "    </tr>\n",
       "  </tbody>\n",
       "</table>\n",
       "</div>"
      ],
      "text/plain": [
       "         lat        lng                                               desc  \\\n",
       "0  40.297876 -75.581294  REINDEER CT & DEAD END;  NEW HANOVER; Station ...   \n",
       "1  40.258061 -75.264680  BRIAR PATH & WHITEMARSH LN;  HATFIELD TOWNSHIP...   \n",
       "2  40.121182 -75.351975  HAWS AVE; NORRISTOWN; 2015-12-10 @ 14:39:21-St...   \n",
       "3  40.116153 -75.343513  AIRY ST & SWEDE ST;  NORRISTOWN; Station 308A;...   \n",
       "4  40.251492 -75.603350  CHERRYWOOD CT & DEAD END;  LOWER POTTSGROVE; S...   \n",
       "\n",
       "       zip                    title            timeStamp                twp  \\\n",
       "0  19525.0   EMS: BACK PAINS/INJURY  2015-12-10 17:10:52        NEW HANOVER   \n",
       "1  19446.0  EMS: DIABETIC EMERGENCY  2015-12-10 17:29:21  HATFIELD TOWNSHIP   \n",
       "2  19401.0      Fire: GAS-ODOR/LEAK  2015-12-10 14:39:21         NORRISTOWN   \n",
       "3  19401.0   EMS: CARDIAC EMERGENCY  2015-12-10 16:47:36         NORRISTOWN   \n",
       "4      NaN           EMS: DIZZINESS  2015-12-10 16:56:52   LOWER POTTSGROVE   \n",
       "\n",
       "                         addr  e type_of_call  \n",
       "0      REINDEER CT & DEAD END  1          EMS  \n",
       "1  BRIAR PATH & WHITEMARSH LN  1          EMS  \n",
       "2                    HAWS AVE  1         Fire  \n",
       "3          AIRY ST & SWEDE ST  1          EMS  \n",
       "4    CHERRYWOOD CT & DEAD END  1          EMS  "
      ]
     },
     "execution_count": 7,
     "metadata": {},
     "output_type": "execute_result"
    }
   ],
   "source": [
    "data.head()"
   ]
  },
  {
   "cell_type": "code",
   "execution_count": 8,
   "metadata": {},
   "outputs": [
    {
     "data": {
      "text/plain": [
       "array(['EMS', 'Fire', 'Traffic'], dtype=object)"
      ]
     },
     "execution_count": 8,
     "metadata": {},
     "output_type": "execute_result"
    }
   ],
   "source": [
    "data['type_of_call'].unique()"
   ]
  },
  {
   "cell_type": "code",
   "execution_count": 9,
   "metadata": {},
   "outputs": [],
   "source": [
    "call_type=data['type_of_call'].value_counts()"
   ]
  },
  {
   "cell_type": "code",
   "execution_count": 10,
   "metadata": {},
   "outputs": [],
   "source": [
    "import matplotlib.pyplot as plt"
   ]
  },
  {
   "cell_type": "code",
   "execution_count": 11,
   "metadata": {},
   "outputs": [],
   "source": [
    "import seaborn as sns"
   ]
  },
  {
   "cell_type": "code",
   "execution_count": 12,
   "metadata": {},
   "outputs": [],
   "source": [
    "sns.set()"
   ]
  },
  {
   "cell_type": "code",
   "execution_count": 13,
   "metadata": {},
   "outputs": [],
   "source": [
    "font={\n",
    "    'size':20\n",
    "}"
   ]
  },
  {
   "cell_type": "code",
   "execution_count": 14,
   "metadata": {},
   "outputs": [],
   "source": [
    "from decimal import Decimal"
   ]
  },
  {
   "cell_type": "code",
   "execution_count": 15,
   "metadata": {},
   "outputs": [
    {
     "data": {
      "image/png": "[encoded data removed]",
      "text/plain": [
       "<Figure size 720x360 with 1 Axes>"
      ]
     },
     "metadata": {},
     "output_type": "display_data"
    }
   ],
   "source": [
    "plt.figure(figsize=(10,5))\n",
    "px=call_type.plot(kind='bar')\n",
    "for p in px.patches:\n",
    "    px.annotate(Decimal(str(p.get_height())), (p.get_x(), p.get_height()))\n",
    "plt.xticks(rotation=30)\n",
    "plt.savefig(\"sam0.png\")\n"
   ]
  },
  {
   "cell_type": "markdown",
   "metadata": {},
   "source": [
    "### for extracting time and date"
   ]
  },
  {
   "cell_type": "code",
   "execution_count": 16,
   "metadata": {},
   "outputs": [
    {
     "name": "stdout",
     "output_type": "stream",
     "text": [
      "<class 'pandas.core.frame.DataFrame'>\n",
      "RangeIndex: 423909 entries, 0 to 423908\n",
      "Data columns (total 10 columns):\n",
      "lat             423909 non-null float64\n",
      "lng             423909 non-null float64\n",
      "desc            423909 non-null object\n",
      "zip             371780 non-null float64\n",
      "title           423909 non-null object\n",
      "timeStamp       423909 non-null object\n",
      "twp             423750 non-null object\n",
      "addr            423909 non-null object\n",
      "e               423909 non-null int64\n",
      "type_of_call    423909 non-null object\n",
      "dtypes: float64(3), int64(1), object(6)\n",
      "memory usage: 32.3+ MB\n"
     ]
    }
   ],
   "source": [
    "data.info()"
   ]
  },
  {
   "cell_type": "code",
   "execution_count": 17,
   "metadata": {},
   "outputs": [],
   "source": [
    "data['timeStamp']=pd.to_datetime(data['timeStamp'], infer_datetime_format=True)"
   ]
  },
  {
   "cell_type": "code",
   "execution_count": 18,
   "metadata": {},
   "outputs": [
    {
     "name": "stdout",
     "output_type": "stream",
     "text": [
      "<class 'pandas.core.frame.DataFrame'>\n",
      "RangeIndex: 423909 entries, 0 to 423908\n",
      "Data columns (total 10 columns):\n",
      "lat             423909 non-null float64\n",
      "lng             423909 non-null float64\n",
      "desc            423909 non-null object\n",
      "zip             371780 non-null float64\n",
      "title           423909 non-null object\n",
      "timeStamp       423909 non-null datetime64[ns]\n",
      "twp             423750 non-null object\n",
      "addr            423909 non-null object\n",
      "e               423909 non-null int64\n",
      "type_of_call    423909 non-null object\n",
      "dtypes: datetime64[ns](1), float64(3), int64(1), object(5)\n",
      "memory usage: 32.3+ MB\n"
     ]
    }
   ],
   "source": [
    "data.info()"
   ]
  },
  {
   "cell_type": "code",
   "execution_count": 19,
   "metadata": {},
   "outputs": [],
   "source": [
    "import datetime as dt"
   ]
  },
  {
   "cell_type": "code",
   "execution_count": 20,
   "metadata": {},
   "outputs": [],
   "source": [
    "data['Year']=data['timeStamp'].dt.year"
   ]
  },
  {
   "cell_type": "code",
   "execution_count": 21,
   "metadata": {},
   "outputs": [],
   "source": [
    "data['Month']=data['timeStamp'].dt.month_name()"
   ]
  },
  {
   "cell_type": "code",
   "execution_count": 22,
   "metadata": {},
   "outputs": [],
   "source": [
    "data['Day']=data['timeStamp'].dt.day_name()"
   ]
  },
  {
   "cell_type": "code",
   "execution_count": 23,
   "metadata": {},
   "outputs": [],
   "source": [
    "data['Hour']=data['timeStamp'].dt.hour"
   ]
  },
  {
   "cell_type": "code",
   "execution_count": 24,
   "metadata": {},
   "outputs": [
    {
     "data": {
      "text/html": [
       "<div>\n",
       "<style scoped>\n",
       "    .dataframe tbody tr th:only-of-type {\n",
       "        vertical-align: middle;\n",
       "    }\n",
       "\n",
       "    .dataframe tbody tr th {\n",
       "        vertical-align: top;\n",
       "    }\n",
       "\n",
       "    .dataframe thead th {\n",
       "        text-align: right;\n",
       "    }\n",
       "</style>\n",
       "<table border=\"1\" class=\"dataframe\">\n",
       "  <thead>\n",
       "    <tr style=\"text-align: right;\">\n",
       "      <th></th>\n",
       "      <th>lat</th>\n",
       "      <th>lng</th>\n",
       "      <th>desc</th>\n",
       "      <th>zip</th>\n",
       "      <th>title</th>\n",
       "      <th>timeStamp</th>\n",
       "      <th>twp</th>\n",
       "      <th>addr</th>\n",
       "      <th>e</th>\n",
       "      <th>type_of_call</th>\n",
       "      <th>Year</th>\n",
       "      <th>Month</th>\n",
       "      <th>Day</th>\n",
       "      <th>Hour</th>\n",
       "    </tr>\n",
       "  </thead>\n",
       "  <tbody>\n",
       "    <tr>\n",
       "      <th>0</th>\n",
       "      <td>40.297876</td>\n",
       "      <td>-75.581294</td>\n",
       "      <td>REINDEER CT &amp; DEAD END;  NEW HANOVER; Station ...</td>\n",
       "      <td>19525.0</td>\n",
       "      <td>EMS: BACK PAINS/INJURY</td>\n",
       "      <td>2015-12-10 17:10:52</td>\n",
       "      <td>NEW HANOVER</td>\n",
       "      <td>REINDEER CT &amp; DEAD END</td>\n",
       "      <td>1</td>\n",
       "      <td>EMS</td>\n",
       "      <td>2015</td>\n",
       "      <td>December</td>\n",
       "      <td>Thursday</td>\n",
       "      <td>17</td>\n",
       "    </tr>\n",
       "    <tr>\n",
       "      <th>1</th>\n",
       "      <td>40.258061</td>\n",
       "      <td>-75.264680</td>\n",
       "      <td>BRIAR PATH &amp; WHITEMARSH LN;  HATFIELD TOWNSHIP...</td>\n",
       "      <td>19446.0</td>\n",
       "      <td>EMS: DIABETIC EMERGENCY</td>\n",
       "      <td>2015-12-10 17:29:21</td>\n",
       "      <td>HATFIELD TOWNSHIP</td>\n",
       "      <td>BRIAR PATH &amp; WHITEMARSH LN</td>\n",
       "      <td>1</td>\n",
       "      <td>EMS</td>\n",
       "      <td>2015</td>\n",
       "      <td>December</td>\n",
       "      <td>Thursday</td>\n",
       "      <td>17</td>\n",
       "    </tr>\n",
       "    <tr>\n",
       "      <th>2</th>\n",
       "      <td>40.121182</td>\n",
       "      <td>-75.351975</td>\n",
       "      <td>HAWS AVE; NORRISTOWN; 2015-12-10 @ 14:39:21-St...</td>\n",
       "      <td>19401.0</td>\n",
       "      <td>Fire: GAS-ODOR/LEAK</td>\n",
       "      <td>2015-12-10 14:39:21</td>\n",
       "      <td>NORRISTOWN</td>\n",
       "      <td>HAWS AVE</td>\n",
       "      <td>1</td>\n",
       "      <td>Fire</td>\n",
       "      <td>2015</td>\n",
       "      <td>December</td>\n",
       "      <td>Thursday</td>\n",
       "      <td>14</td>\n",
       "    </tr>\n",
       "    <tr>\n",
       "      <th>3</th>\n",
       "      <td>40.116153</td>\n",
       "      <td>-75.343513</td>\n",
       "      <td>AIRY ST &amp; SWEDE ST;  NORRISTOWN; Station 308A;...</td>\n",
       "      <td>19401.0</td>\n",
       "      <td>EMS: CARDIAC EMERGENCY</td>\n",
       "      <td>2015-12-10 16:47:36</td>\n",
       "      <td>NORRISTOWN</td>\n",
       "      <td>AIRY ST &amp; SWEDE ST</td>\n",
       "      <td>1</td>\n",
       "      <td>EMS</td>\n",
       "      <td>2015</td>\n",
       "      <td>December</td>\n",
       "      <td>Thursday</td>\n",
       "      <td>16</td>\n",
       "    </tr>\n",
       "    <tr>\n",
       "      <th>4</th>\n",
       "      <td>40.251492</td>\n",
       "      <td>-75.603350</td>\n",
       "      <td>CHERRYWOOD CT &amp; DEAD END;  LOWER POTTSGROVE; S...</td>\n",
       "      <td>NaN</td>\n",
       "      <td>EMS: DIZZINESS</td>\n",
       "      <td>2015-12-10 16:56:52</td>\n",
       "      <td>LOWER POTTSGROVE</td>\n",
       "      <td>CHERRYWOOD CT &amp; DEAD END</td>\n",
       "      <td>1</td>\n",
       "      <td>EMS</td>\n",
       "      <td>2015</td>\n",
       "      <td>December</td>\n",
       "      <td>Thursday</td>\n",
       "      <td>16</td>\n",
       "    </tr>\n",
       "  </tbody>\n",
       "</table>\n",
       "</div>"
      ],
      "text/plain": [
       "         lat        lng                                               desc  \\\n",
       "0  40.297876 -75.581294  REINDEER CT & DEAD END;  NEW HANOVER; Station ...   \n",
       "1  40.258061 -75.264680  BRIAR PATH & WHITEMARSH LN;  HATFIELD TOWNSHIP...   \n",
       "2  40.121182 -75.351975  HAWS AVE; NORRISTOWN; 2015-12-10 @ 14:39:21-St...   \n",
       "3  40.116153 -75.343513  AIRY ST & SWEDE ST;  NORRISTOWN; Station 308A;...   \n",
       "4  40.251492 -75.603350  CHERRYWOOD CT & DEAD END;  LOWER POTTSGROVE; S...   \n",
       "\n",
       "       zip                    title           timeStamp                twp  \\\n",
       "0  19525.0   EMS: BACK PAINS/INJURY 2015-12-10 17:10:52        NEW HANOVER   \n",
       "1  19446.0  EMS: DIABETIC EMERGENCY 2015-12-10 17:29:21  HATFIELD TOWNSHIP   \n",
       "2  19401.0      Fire: GAS-ODOR/LEAK 2015-12-10 14:39:21         NORRISTOWN   \n",
       "3  19401.0   EMS: CARDIAC EMERGENCY 2015-12-10 16:47:36         NORRISTOWN   \n",
       "4      NaN           EMS: DIZZINESS 2015-12-10 16:56:52   LOWER POTTSGROVE   \n",
       "\n",
       "                         addr  e type_of_call  Year     Month       Day  Hour  \n",
       "0      REINDEER CT & DEAD END  1          EMS  2015  December  Thursday    17  \n",
       "1  BRIAR PATH & WHITEMARSH LN  1          EMS  2015  December  Thursday    17  \n",
       "2                    HAWS AVE  1         Fire  2015  December  Thursday    14  \n",
       "3          AIRY ST & SWEDE ST  1          EMS  2015  December  Thursday    16  \n",
       "4    CHERRYWOOD CT & DEAD END  1          EMS  2015  December  Thursday    16  "
      ]
     },
     "execution_count": 24,
     "metadata": {},
     "output_type": "execute_result"
    }
   ],
   "source": [
    "data.head()"
   ]
  },
  {
   "cell_type": "markdown",
   "metadata": {},
   "source": [
    "### At what time of month I can expect which type of call."
   ]
  },
  {
   "cell_type": "code",
   "execution_count": 25,
   "metadata": {},
   "outputs": [],
   "source": [
    "calls_month = data.groupby(['Month', 'type_of_call'])['type_of_call'].count()"
   ]
  },
  {
   "cell_type": "code",
   "execution_count": 26,
   "metadata": {},
   "outputs": [
    {
     "data": {
      "text/plain": [
       "Month      type_of_call\n",
       "April      EMS             17255\n",
       "           Fire             4983\n",
       "           Traffic         11345\n",
       "August     EMS             17965\n",
       "           Fire             5717\n",
       "           Traffic         12290\n",
       "December   EMS             16131\n",
       "           Fire             4717\n",
       "           Traffic         12171\n",
       "February   EMS             16587\n",
       "           Fire             4894\n",
       "           Traffic         11347\n",
       "January    EMS             18403\n",
       "           Fire             5637\n",
       "           Traffic         13784\n",
       "July       EMS             18096\n",
       "           Fire             5725\n",
       "           Traffic         12584\n",
       "June       EMS             17644\n",
       "           Fire             5618\n",
       "           Traffic         12909\n",
       "March      EMS             17883\n",
       "           Fire             5752\n",
       "           Traffic         14031\n",
       "May        EMS             17819\n",
       "           Fire             5168\n",
       "           Traffic         12657\n",
       "November   EMS             14669\n",
       "           Fire             4456\n",
       "           Traffic         12518\n",
       "October    EMS             18565\n",
       "           Fire             5636\n",
       "           Traffic         13614\n",
       "September  EMS             17659\n",
       "           Fire             5472\n",
       "           Traffic         12208\n",
       "Name: type_of_call, dtype: int64"
      ]
     },
     "execution_count": 26,
     "metadata": {},
     "output_type": "execute_result"
    }
   ],
   "source": [
    "calls_month"
   ]
  },
  {
   "cell_type": "code",
   "execution_count": 27,
   "metadata": {},
   "outputs": [],
   "source": [
    "calls_month_percentage = calls_month.groupby(level=0).apply(lambda x:round(100*x/float(x.sum())))"
   ]
  },
  {
   "cell_type": "code",
   "execution_count": 28,
   "metadata": {},
   "outputs": [
    {
     "data": {
      "text/plain": [
       "Month      type_of_call\n",
       "April      EMS             51.0\n",
       "           Fire            15.0\n",
       "           Traffic         34.0\n",
       "August     EMS             50.0\n",
       "           Fire            16.0\n",
       "           Traffic         34.0\n",
       "December   EMS             49.0\n",
       "           Fire            14.0\n",
       "           Traffic         37.0\n",
       "February   EMS             51.0\n",
       "           Fire            15.0\n",
       "           Traffic         35.0\n",
       "January    EMS             49.0\n",
       "           Fire            15.0\n",
       "           Traffic         36.0\n",
       "July       EMS             50.0\n",
       "           Fire            16.0\n",
       "           Traffic         35.0\n",
       "June       EMS             49.0\n",
       "           Fire            16.0\n",
       "           Traffic         36.0\n",
       "March      EMS             47.0\n",
       "           Fire            15.0\n",
       "           Traffic         37.0\n",
       "May        EMS             50.0\n",
       "           Fire            14.0\n",
       "           Traffic         36.0\n",
       "November   EMS             46.0\n",
       "           Fire            14.0\n",
       "           Traffic         40.0\n",
       "October    EMS             49.0\n",
       "           Fire            15.0\n",
       "           Traffic         36.0\n",
       "September  EMS             50.0\n",
       "           Fire            15.0\n",
       "           Traffic         35.0\n",
       "Name: type_of_call, dtype: float64"
      ]
     },
     "execution_count": 28,
     "metadata": {},
     "output_type": "execute_result"
    }
   ],
   "source": [
    "calls_month_percentage"
   ]
  },
  {
   "cell_type": "code",
   "execution_count": 29,
   "metadata": {},
   "outputs": [],
   "source": [
    "month_order = ['January', 'February', 'March', 'April', 'May', 'June', 'July', 'August', 'September', 'October', 'November', 'December']"
   ]
  },
  {
   "cell_type": "code",
   "execution_count": 30,
   "metadata": {},
   "outputs": [],
   "source": [
    "calls_month_percentage = calls_month_percentage.reindex(month_order, level=0)"
   ]
  },
  {
   "cell_type": "code",
   "execution_count": 31,
   "metadata": {},
   "outputs": [
    {
     "data": {
      "text/plain": [
       "Month      type_of_call\n",
       "January    EMS             49.0\n",
       "           Fire            15.0\n",
       "           Traffic         36.0\n",
       "February   EMS             51.0\n",
       "           Fire            15.0\n",
       "           Traffic         35.0\n",
       "March      EMS             47.0\n",
       "           Fire            15.0\n",
       "           Traffic         37.0\n",
       "April      EMS             51.0\n",
       "           Fire            15.0\n",
       "           Traffic         34.0\n",
       "May        EMS             50.0\n",
       "           Fire            14.0\n",
       "           Traffic         36.0\n",
       "June       EMS             49.0\n",
       "           Fire            16.0\n",
       "           Traffic         36.0\n",
       "July       EMS             50.0\n",
       "           Fire            16.0\n",
       "           Traffic         35.0\n",
       "August     EMS             50.0\n",
       "           Fire            16.0\n",
       "           Traffic         34.0\n",
       "September  EMS             50.0\n",
       "           Fire            15.0\n",
       "           Traffic         35.0\n",
       "October    EMS             49.0\n",
       "           Fire            15.0\n",
       "           Traffic         36.0\n",
       "November   EMS             46.0\n",
       "           Fire            14.0\n",
       "           Traffic         40.0\n",
       "December   EMS             49.0\n",
       "           Fire            14.0\n",
       "           Traffic         37.0\n",
       "Name: type_of_call, dtype: float64"
      ]
     },
     "execution_count": 31,
     "metadata": {},
     "output_type": "execute_result"
    }
   ],
   "source": [
    "calls_month_percentage"
   ]
  },
  {
   "cell_type": "code",
   "execution_count": 32,
   "metadata": {},
   "outputs": [],
   "source": [
    "calls_month_percentage = calls_month_percentage.reindex(['EMS','Traffic','Fire'], level=1)"
   ]
  },
  {
   "cell_type": "code",
   "execution_count": 33,
   "metadata": {},
   "outputs": [
    {
     "data": {
      "text/plain": [
       "Month      type_of_call\n",
       "January    EMS             49.0\n",
       "           Traffic         36.0\n",
       "           Fire            15.0\n",
       "February   EMS             51.0\n",
       "           Traffic         35.0\n",
       "           Fire            15.0\n",
       "March      EMS             47.0\n",
       "           Traffic         37.0\n",
       "           Fire            15.0\n",
       "April      EMS             51.0\n",
       "           Traffic         34.0\n",
       "           Fire            15.0\n",
       "May        EMS             50.0\n",
       "           Traffic         36.0\n",
       "           Fire            14.0\n",
       "June       EMS             49.0\n",
       "           Traffic         36.0\n",
       "           Fire            16.0\n",
       "July       EMS             50.0\n",
       "           Traffic         35.0\n",
       "           Fire            16.0\n",
       "August     EMS             50.0\n",
       "           Traffic         34.0\n",
       "           Fire            16.0\n",
       "September  EMS             50.0\n",
       "           Traffic         35.0\n",
       "           Fire            15.0\n",
       "October    EMS             49.0\n",
       "           Traffic         36.0\n",
       "           Fire            15.0\n",
       "November   EMS             46.0\n",
       "           Traffic         40.0\n",
       "           Fire            14.0\n",
       "December   EMS             49.0\n",
       "           Traffic         37.0\n",
       "           Fire            14.0\n",
       "Name: type_of_call, dtype: float64"
      ]
     },
     "execution_count": 33,
     "metadata": {},
     "output_type": "execute_result"
    }
   ],
   "source": [
    "calls_month_percentage"
   ]
  },
  {
   "cell_type": "code",
   "execution_count": 52,
   "metadata": {},
   "outputs": [
    {
     "data": {
      "image/png": "[encoded data removed]",
      "text/plain": [
       "<Figure size 864x576 with 1 Axes>"
      ]
     },
     "metadata": {},
     "output_type": "display_data"
    }
   ],
   "source": [
    "sns.set(rc={'figure.figsize':(12, 8)})\n",
    "calls_month_percentage.unstack().plot(kind='bar')\n",
    "plt.xlabel('Name of the Month', fontdict=font)\n",
    "plt.ylabel('Percentage of Calls', fontdict=font)\n",
    "plt.xticks(rotation=0)\n",
    "plt.title('Calls/Month', fontdict=font)\n",
    "plt.savefig(\"moh1.png\")"
   ]
  },
  {
   "cell_type": "markdown",
   "metadata": {},
   "source": [
    " At what time of hour I can expect which type of call."
   ]
  },
  {
   "cell_type": "code",
   "execution_count": 35,
   "metadata": {},
   "outputs": [],
   "source": [
    "calls_hour = data.groupby(['Hour', 'type_of_call'])['type_of_call'].count()"
   ]
  },
  {
   "cell_type": "code",
   "execution_count": 36,
   "metadata": {},
   "outputs": [
    {
     "data": {
      "text/plain": [
       "Hour  type_of_call\n",
       "0     EMS              5263\n",
       "      Fire             1341\n",
       "      Traffic          2046\n",
       "1     EMS              4711\n",
       "      Fire             1104\n",
       "      Traffic          1566\n",
       "2     EMS              4425\n",
       "      Fire              981\n",
       "      Traffic          1390\n",
       "3     EMS              3956\n",
       "      Fire              930\n",
       "      Traffic          1128\n",
       "4     EMS              3840\n",
       "      Fire              905\n",
       "      Traffic          1156\n",
       "5     EMS              4227\n",
       "      Fire             1184\n",
       "      Traffic          1896\n",
       "6     EMS              5600\n",
       "      Fire             1557\n",
       "      Traffic          3967\n",
       "7     EMS              7629\n",
       "      Fire             2307\n",
       "      Traffic          7675\n",
       "8     EMS              9812\n",
       "      Fire             2941\n",
       "      Traffic          8848\n",
       "9     EMS             11708\n",
       "      Fire             3266\n",
       "      Traffic          7741\n",
       "                      ...  \n",
       "14    EMS             11763\n",
       "      Fire             3797\n",
       "      Traffic         10276\n",
       "15    EMS             11448\n",
       "      Fire             3768\n",
       "      Traffic         11760\n",
       "16    EMS             11527\n",
       "      Fire             3922\n",
       "      Traffic         12289\n",
       "17    EMS             11212\n",
       "      Fire             4064\n",
       "      Traffic         12657\n",
       "18    EMS             10651\n",
       "      Fire             4077\n",
       "      Traffic          9343\n",
       "19    EMS             10196\n",
       "      Fire             3572\n",
       "      Traffic          6832\n",
       "20    EMS              9296\n",
       "      Fire             3151\n",
       "      Traffic          5513\n",
       "21    EMS              8307\n",
       "      Fire             2614\n",
       "      Traffic          4568\n",
       "22    EMS              7129\n",
       "      Fire             2082\n",
       "      Traffic          3685\n",
       "23    EMS              6099\n",
       "      Fire             1723\n",
       "      Traffic          2945\n",
       "Name: type_of_call, Length: 72, dtype: int64"
      ]
     },
     "execution_count": 36,
     "metadata": {},
     "output_type": "execute_result"
    }
   ],
   "source": [
    "calls_hour"
   ]
  },
  {
   "cell_type": "code",
   "execution_count": 37,
   "metadata": {},
   "outputs": [],
   "source": [
    "calls_hour_percentage = calls_hour.groupby(level=0).apply(lambda x:round(100*x/float(x.sum())))"
   ]
  },
  {
   "cell_type": "code",
   "execution_count": 38,
   "metadata": {},
   "outputs": [
    {
     "data": {
      "text/plain": [
       "Hour  type_of_call\n",
       "0     EMS             61.0\n",
       "      Fire            16.0\n",
       "      Traffic         24.0\n",
       "1     EMS             64.0\n",
       "      Fire            15.0\n",
       "      Traffic         21.0\n",
       "2     EMS             65.0\n",
       "      Fire            14.0\n",
       "      Traffic         20.0\n",
       "3     EMS             66.0\n",
       "      Fire            15.0\n",
       "      Traffic         19.0\n",
       "4     EMS             65.0\n",
       "      Fire            15.0\n",
       "      Traffic         20.0\n",
       "5     EMS             58.0\n",
       "      Fire            16.0\n",
       "      Traffic         26.0\n",
       "6     EMS             50.0\n",
       "      Fire            14.0\n",
       "      Traffic         36.0\n",
       "7     EMS             43.0\n",
       "      Fire            13.0\n",
       "      Traffic         44.0\n",
       "8     EMS             45.0\n",
       "      Fire            14.0\n",
       "      Traffic         41.0\n",
       "9     EMS             52.0\n",
       "      Fire            14.0\n",
       "      Traffic         34.0\n",
       "                      ... \n",
       "14    EMS             46.0\n",
       "      Fire            15.0\n",
       "      Traffic         40.0\n",
       "15    EMS             42.0\n",
       "      Fire            14.0\n",
       "      Traffic         44.0\n",
       "16    EMS             42.0\n",
       "      Fire            14.0\n",
       "      Traffic         44.0\n",
       "17    EMS             40.0\n",
       "      Fire            15.0\n",
       "      Traffic         45.0\n",
       "18    EMS             44.0\n",
       "      Fire            17.0\n",
       "      Traffic         39.0\n",
       "19    EMS             49.0\n",
       "      Fire            17.0\n",
       "      Traffic         33.0\n",
       "20    EMS             52.0\n",
       "      Fire            18.0\n",
       "      Traffic         31.0\n",
       "21    EMS             54.0\n",
       "      Fire            17.0\n",
       "      Traffic         29.0\n",
       "22    EMS             55.0\n",
       "      Fire            16.0\n",
       "      Traffic         29.0\n",
       "23    EMS             57.0\n",
       "      Fire            16.0\n",
       "      Traffic         27.0\n",
       "Name: type_of_call, Length: 72, dtype: float64"
      ]
     },
     "execution_count": 38,
     "metadata": {},
     "output_type": "execute_result"
    }
   ],
   "source": [
    "calls_hour_percentage"
   ]
  },
  {
   "cell_type": "code",
   "execution_count": 39,
   "metadata": {},
   "outputs": [],
   "source": [
    "calls_hour_percentage = calls_hour_percentage.reindex(['EMS','Traffic','Fire'], level=1)"
   ]
  },
  {
   "cell_type": "code",
   "execution_count": 40,
   "metadata": {},
   "outputs": [
    {
     "data": {
      "text/plain": [
       "Hour  type_of_call\n",
       "0     EMS             61.0\n",
       "      Traffic         24.0\n",
       "      Fire            16.0\n",
       "1     EMS             64.0\n",
       "      Traffic         21.0\n",
       "      Fire            15.0\n",
       "2     EMS             65.0\n",
       "      Traffic         20.0\n",
       "      Fire            14.0\n",
       "3     EMS             66.0\n",
       "      Traffic         19.0\n",
       "      Fire            15.0\n",
       "4     EMS             65.0\n",
       "      Traffic         20.0\n",
       "      Fire            15.0\n",
       "5     EMS             58.0\n",
       "      Traffic         26.0\n",
       "      Fire            16.0\n",
       "6     EMS             50.0\n",
       "      Traffic         36.0\n",
       "      Fire            14.0\n",
       "7     EMS             43.0\n",
       "      Traffic         44.0\n",
       "      Fire            13.0\n",
       "8     EMS             45.0\n",
       "      Traffic         41.0\n",
       "      Fire            14.0\n",
       "9     EMS             52.0\n",
       "      Traffic         34.0\n",
       "      Fire            14.0\n",
       "                      ... \n",
       "14    EMS             46.0\n",
       "      Traffic         40.0\n",
       "      Fire            15.0\n",
       "15    EMS             42.0\n",
       "      Traffic         44.0\n",
       "      Fire            14.0\n",
       "16    EMS             42.0\n",
       "      Traffic         44.0\n",
       "      Fire            14.0\n",
       "17    EMS             40.0\n",
       "      Traffic         45.0\n",
       "      Fire            15.0\n",
       "18    EMS             44.0\n",
       "      Traffic         39.0\n",
       "      Fire            17.0\n",
       "19    EMS             49.0\n",
       "      Traffic         33.0\n",
       "      Fire            17.0\n",
       "20    EMS             52.0\n",
       "      Traffic         31.0\n",
       "      Fire            18.0\n",
       "21    EMS             54.0\n",
       "      Traffic         29.0\n",
       "      Fire            17.0\n",
       "22    EMS             55.0\n",
       "      Traffic         29.0\n",
       "      Fire            16.0\n",
       "23    EMS             57.0\n",
       "      Traffic         27.0\n",
       "      Fire            16.0\n",
       "Name: type_of_call, Length: 72, dtype: float64"
      ]
     },
     "execution_count": 40,
     "metadata": {},
     "output_type": "execute_result"
    }
   ],
   "source": [
    "calls_hour_percentage"
   ]
  },
  {
   "cell_type": "code",
   "execution_count": 53,
   "metadata": {},
   "outputs": [
    {
     "data": {
      "image/png": "[encoded data removed]",
      "text/plain": [
       "<Figure size 864x576 with 1 Axes>"
      ]
     },
     "metadata": {},
     "output_type": "display_data"
    }
   ],
   "source": [
    "sns.set(rc={'figure.figsize':(12, 8)})\n",
    "calls_hour_percentage.unstack().plot(kind='bar')\n",
    "plt.xlabel('Hour of the day', fontdict=font)\n",
    "plt.ylabel('Percentage of Calls', fontdict=font)\n",
    "plt.xticks(rotation=0)\n",
    "plt.title('Calls/Month', fontdict=font)\n",
    "plt.savefig(\"moh2.png\")"
   ]
  },
  {
   "cell_type": "markdown",
   "metadata": {},
   "source": [
    "### Visualize the percentage share of emergency type for each call."
   ]
  },
  {
   "cell_type": "code",
   "execution_count": 42,
   "metadata": {},
   "outputs": [
    {
     "data": {
      "text/html": [
       "<div>\n",
       "<style scoped>\n",
       "    .dataframe tbody tr th:only-of-type {\n",
       "        vertical-align: middle;\n",
       "    }\n",
       "\n",
       "    .dataframe tbody tr th {\n",
       "        vertical-align: top;\n",
       "    }\n",
       "\n",
       "    .dataframe thead th {\n",
       "        text-align: right;\n",
       "    }\n",
       "</style>\n",
       "<table border=\"1\" class=\"dataframe\">\n",
       "  <thead>\n",
       "    <tr style=\"text-align: right;\">\n",
       "      <th></th>\n",
       "      <th>lat</th>\n",
       "      <th>lng</th>\n",
       "      <th>desc</th>\n",
       "      <th>zip</th>\n",
       "      <th>title</th>\n",
       "      <th>timeStamp</th>\n",
       "      <th>twp</th>\n",
       "      <th>addr</th>\n",
       "      <th>e</th>\n",
       "      <th>type_of_call</th>\n",
       "      <th>Year</th>\n",
       "      <th>Month</th>\n",
       "      <th>Day</th>\n",
       "      <th>Hour</th>\n",
       "    </tr>\n",
       "  </thead>\n",
       "  <tbody>\n",
       "    <tr>\n",
       "      <th>0</th>\n",
       "      <td>40.297876</td>\n",
       "      <td>-75.581294</td>\n",
       "      <td>REINDEER CT &amp; DEAD END;  NEW HANOVER; Station ...</td>\n",
       "      <td>19525.0</td>\n",
       "      <td>EMS: BACK PAINS/INJURY</td>\n",
       "      <td>2015-12-10 17:10:52</td>\n",
       "      <td>NEW HANOVER</td>\n",
       "      <td>REINDEER CT &amp; DEAD END</td>\n",
       "      <td>1</td>\n",
       "      <td>EMS</td>\n",
       "      <td>2015</td>\n",
       "      <td>December</td>\n",
       "      <td>Thursday</td>\n",
       "      <td>17</td>\n",
       "    </tr>\n",
       "    <tr>\n",
       "      <th>1</th>\n",
       "      <td>40.258061</td>\n",
       "      <td>-75.264680</td>\n",
       "      <td>BRIAR PATH &amp; WHITEMARSH LN;  HATFIELD TOWNSHIP...</td>\n",
       "      <td>19446.0</td>\n",
       "      <td>EMS: DIABETIC EMERGENCY</td>\n",
       "      <td>2015-12-10 17:29:21</td>\n",
       "      <td>HATFIELD TOWNSHIP</td>\n",
       "      <td>BRIAR PATH &amp; WHITEMARSH LN</td>\n",
       "      <td>1</td>\n",
       "      <td>EMS</td>\n",
       "      <td>2015</td>\n",
       "      <td>December</td>\n",
       "      <td>Thursday</td>\n",
       "      <td>17</td>\n",
       "    </tr>\n",
       "    <tr>\n",
       "      <th>2</th>\n",
       "      <td>40.121182</td>\n",
       "      <td>-75.351975</td>\n",
       "      <td>HAWS AVE; NORRISTOWN; 2015-12-10 @ 14:39:21-St...</td>\n",
       "      <td>19401.0</td>\n",
       "      <td>Fire: GAS-ODOR/LEAK</td>\n",
       "      <td>2015-12-10 14:39:21</td>\n",
       "      <td>NORRISTOWN</td>\n",
       "      <td>HAWS AVE</td>\n",
       "      <td>1</td>\n",
       "      <td>Fire</td>\n",
       "      <td>2015</td>\n",
       "      <td>December</td>\n",
       "      <td>Thursday</td>\n",
       "      <td>14</td>\n",
       "    </tr>\n",
       "    <tr>\n",
       "      <th>3</th>\n",
       "      <td>40.116153</td>\n",
       "      <td>-75.343513</td>\n",
       "      <td>AIRY ST &amp; SWEDE ST;  NORRISTOWN; Station 308A;...</td>\n",
       "      <td>19401.0</td>\n",
       "      <td>EMS: CARDIAC EMERGENCY</td>\n",
       "      <td>2015-12-10 16:47:36</td>\n",
       "      <td>NORRISTOWN</td>\n",
       "      <td>AIRY ST &amp; SWEDE ST</td>\n",
       "      <td>1</td>\n",
       "      <td>EMS</td>\n",
       "      <td>2015</td>\n",
       "      <td>December</td>\n",
       "      <td>Thursday</td>\n",
       "      <td>16</td>\n",
       "    </tr>\n",
       "    <tr>\n",
       "      <th>4</th>\n",
       "      <td>40.251492</td>\n",
       "      <td>-75.603350</td>\n",
       "      <td>CHERRYWOOD CT &amp; DEAD END;  LOWER POTTSGROVE; S...</td>\n",
       "      <td>NaN</td>\n",
       "      <td>EMS: DIZZINESS</td>\n",
       "      <td>2015-12-10 16:56:52</td>\n",
       "      <td>LOWER POTTSGROVE</td>\n",
       "      <td>CHERRYWOOD CT &amp; DEAD END</td>\n",
       "      <td>1</td>\n",
       "      <td>EMS</td>\n",
       "      <td>2015</td>\n",
       "      <td>December</td>\n",
       "      <td>Thursday</td>\n",
       "      <td>16</td>\n",
       "    </tr>\n",
       "  </tbody>\n",
       "</table>\n",
       "</div>"
      ],
      "text/plain": [
       "         lat        lng                                               desc  \\\n",
       "0  40.297876 -75.581294  REINDEER CT & DEAD END;  NEW HANOVER; Station ...   \n",
       "1  40.258061 -75.264680  BRIAR PATH & WHITEMARSH LN;  HATFIELD TOWNSHIP...   \n",
       "2  40.121182 -75.351975  HAWS AVE; NORRISTOWN; 2015-12-10 @ 14:39:21-St...   \n",
       "3  40.116153 -75.343513  AIRY ST & SWEDE ST;  NORRISTOWN; Station 308A;...   \n",
       "4  40.251492 -75.603350  CHERRYWOOD CT & DEAD END;  LOWER POTTSGROVE; S...   \n",
       "\n",
       "       zip                    title           timeStamp                twp  \\\n",
       "0  19525.0   EMS: BACK PAINS/INJURY 2015-12-10 17:10:52        NEW HANOVER   \n",
       "1  19446.0  EMS: DIABETIC EMERGENCY 2015-12-10 17:29:21  HATFIELD TOWNSHIP   \n",
       "2  19401.0      Fire: GAS-ODOR/LEAK 2015-12-10 14:39:21         NORRISTOWN   \n",
       "3  19401.0   EMS: CARDIAC EMERGENCY 2015-12-10 16:47:36         NORRISTOWN   \n",
       "4      NaN           EMS: DIZZINESS 2015-12-10 16:56:52   LOWER POTTSGROVE   \n",
       "\n",
       "                         addr  e type_of_call  Year     Month       Day  Hour  \n",
       "0      REINDEER CT & DEAD END  1          EMS  2015  December  Thursday    17  \n",
       "1  BRIAR PATH & WHITEMARSH LN  1          EMS  2015  December  Thursday    17  \n",
       "2                    HAWS AVE  1         Fire  2015  December  Thursday    14  \n",
       "3          AIRY ST & SWEDE ST  1          EMS  2015  December  Thursday    16  \n",
       "4    CHERRYWOOD CT & DEAD END  1          EMS  2015  December  Thursday    16  "
      ]
     },
     "execution_count": 42,
     "metadata": {},
     "output_type": "execute_result"
    }
   ],
   "source": [
    "data.head()"
   ]
  },
  {
   "cell_type": "code",
   "execution_count": 43,
   "metadata": {},
   "outputs": [],
   "source": [
    "def spliter(x):\n",
    "    x=x.split(':')\n",
    "    return x[1]"
   ]
  },
  {
   "cell_type": "code",
   "execution_count": 44,
   "metadata": {},
   "outputs": [],
   "source": [
    "data['emergency_call']=data['title'].apply(spliter)"
   ]
  },
  {
   "cell_type": "code",
   "execution_count": 45,
   "metadata": {},
   "outputs": [
    {
     "data": {
      "text/html": [
       "<div>\n",
       "<style scoped>\n",
       "    .dataframe tbody tr th:only-of-type {\n",
       "        vertical-align: middle;\n",
       "    }\n",
       "\n",
       "    .dataframe tbody tr th {\n",
       "        vertical-align: top;\n",
       "    }\n",
       "\n",
       "    .dataframe thead th {\n",
       "        text-align: right;\n",
       "    }\n",
       "</style>\n",
       "<table border=\"1\" class=\"dataframe\">\n",
       "  <thead>\n",
       "    <tr style=\"text-align: right;\">\n",
       "      <th></th>\n",
       "      <th>lat</th>\n",
       "      <th>lng</th>\n",
       "      <th>desc</th>\n",
       "      <th>zip</th>\n",
       "      <th>title</th>\n",
       "      <th>timeStamp</th>\n",
       "      <th>twp</th>\n",
       "      <th>addr</th>\n",
       "      <th>e</th>\n",
       "      <th>type_of_call</th>\n",
       "      <th>Year</th>\n",
       "      <th>Month</th>\n",
       "      <th>Day</th>\n",
       "      <th>Hour</th>\n",
       "      <th>emergency_call</th>\n",
       "    </tr>\n",
       "  </thead>\n",
       "  <tbody>\n",
       "    <tr>\n",
       "      <th>0</th>\n",
       "      <td>40.297876</td>\n",
       "      <td>-75.581294</td>\n",
       "      <td>REINDEER CT &amp; DEAD END;  NEW HANOVER; Station ...</td>\n",
       "      <td>19525.0</td>\n",
       "      <td>EMS: BACK PAINS/INJURY</td>\n",
       "      <td>2015-12-10 17:10:52</td>\n",
       "      <td>NEW HANOVER</td>\n",
       "      <td>REINDEER CT &amp; DEAD END</td>\n",
       "      <td>1</td>\n",
       "      <td>EMS</td>\n",
       "      <td>2015</td>\n",
       "      <td>December</td>\n",
       "      <td>Thursday</td>\n",
       "      <td>17</td>\n",
       "      <td>BACK PAINS/INJURY</td>\n",
       "    </tr>\n",
       "    <tr>\n",
       "      <th>1</th>\n",
       "      <td>40.258061</td>\n",
       "      <td>-75.264680</td>\n",
       "      <td>BRIAR PATH &amp; WHITEMARSH LN;  HATFIELD TOWNSHIP...</td>\n",
       "      <td>19446.0</td>\n",
       "      <td>EMS: DIABETIC EMERGENCY</td>\n",
       "      <td>2015-12-10 17:29:21</td>\n",
       "      <td>HATFIELD TOWNSHIP</td>\n",
       "      <td>BRIAR PATH &amp; WHITEMARSH LN</td>\n",
       "      <td>1</td>\n",
       "      <td>EMS</td>\n",
       "      <td>2015</td>\n",
       "      <td>December</td>\n",
       "      <td>Thursday</td>\n",
       "      <td>17</td>\n",
       "      <td>DIABETIC EMERGENCY</td>\n",
       "    </tr>\n",
       "    <tr>\n",
       "      <th>2</th>\n",
       "      <td>40.121182</td>\n",
       "      <td>-75.351975</td>\n",
       "      <td>HAWS AVE; NORRISTOWN; 2015-12-10 @ 14:39:21-St...</td>\n",
       "      <td>19401.0</td>\n",
       "      <td>Fire: GAS-ODOR/LEAK</td>\n",
       "      <td>2015-12-10 14:39:21</td>\n",
       "      <td>NORRISTOWN</td>\n",
       "      <td>HAWS AVE</td>\n",
       "      <td>1</td>\n",
       "      <td>Fire</td>\n",
       "      <td>2015</td>\n",
       "      <td>December</td>\n",
       "      <td>Thursday</td>\n",
       "      <td>14</td>\n",
       "      <td>GAS-ODOR/LEAK</td>\n",
       "    </tr>\n",
       "    <tr>\n",
       "      <th>3</th>\n",
       "      <td>40.116153</td>\n",
       "      <td>-75.343513</td>\n",
       "      <td>AIRY ST &amp; SWEDE ST;  NORRISTOWN; Station 308A;...</td>\n",
       "      <td>19401.0</td>\n",
       "      <td>EMS: CARDIAC EMERGENCY</td>\n",
       "      <td>2015-12-10 16:47:36</td>\n",
       "      <td>NORRISTOWN</td>\n",
       "      <td>AIRY ST &amp; SWEDE ST</td>\n",
       "      <td>1</td>\n",
       "      <td>EMS</td>\n",
       "      <td>2015</td>\n",
       "      <td>December</td>\n",
       "      <td>Thursday</td>\n",
       "      <td>16</td>\n",
       "      <td>CARDIAC EMERGENCY</td>\n",
       "    </tr>\n",
       "    <tr>\n",
       "      <th>4</th>\n",
       "      <td>40.251492</td>\n",
       "      <td>-75.603350</td>\n",
       "      <td>CHERRYWOOD CT &amp; DEAD END;  LOWER POTTSGROVE; S...</td>\n",
       "      <td>NaN</td>\n",
       "      <td>EMS: DIZZINESS</td>\n",
       "      <td>2015-12-10 16:56:52</td>\n",
       "      <td>LOWER POTTSGROVE</td>\n",
       "      <td>CHERRYWOOD CT &amp; DEAD END</td>\n",
       "      <td>1</td>\n",
       "      <td>EMS</td>\n",
       "      <td>2015</td>\n",
       "      <td>December</td>\n",
       "      <td>Thursday</td>\n",
       "      <td>16</td>\n",
       "      <td>DIZZINESS</td>\n",
       "    </tr>\n",
       "  </tbody>\n",
       "</table>\n",
       "</div>"
      ],
      "text/plain": [
       "         lat        lng                                               desc  \\\n",
       "0  40.297876 -75.581294  REINDEER CT & DEAD END;  NEW HANOVER; Station ...   \n",
       "1  40.258061 -75.264680  BRIAR PATH & WHITEMARSH LN;  HATFIELD TOWNSHIP...   \n",
       "2  40.121182 -75.351975  HAWS AVE; NORRISTOWN; 2015-12-10 @ 14:39:21-St...   \n",
       "3  40.116153 -75.343513  AIRY ST & SWEDE ST;  NORRISTOWN; Station 308A;...   \n",
       "4  40.251492 -75.603350  CHERRYWOOD CT & DEAD END;  LOWER POTTSGROVE; S...   \n",
       "\n",
       "       zip                    title           timeStamp                twp  \\\n",
       "0  19525.0   EMS: BACK PAINS/INJURY 2015-12-10 17:10:52        NEW HANOVER   \n",
       "1  19446.0  EMS: DIABETIC EMERGENCY 2015-12-10 17:29:21  HATFIELD TOWNSHIP   \n",
       "2  19401.0      Fire: GAS-ODOR/LEAK 2015-12-10 14:39:21         NORRISTOWN   \n",
       "3  19401.0   EMS: CARDIAC EMERGENCY 2015-12-10 16:47:36         NORRISTOWN   \n",
       "4      NaN           EMS: DIZZINESS 2015-12-10 16:56:52   LOWER POTTSGROVE   \n",
       "\n",
       "                         addr  e type_of_call  Year     Month       Day  Hour  \\\n",
       "0      REINDEER CT & DEAD END  1          EMS  2015  December  Thursday    17   \n",
       "1  BRIAR PATH & WHITEMARSH LN  1          EMS  2015  December  Thursday    17   \n",
       "2                    HAWS AVE  1         Fire  2015  December  Thursday    14   \n",
       "3          AIRY ST & SWEDE ST  1          EMS  2015  December  Thursday    16   \n",
       "4    CHERRYWOOD CT & DEAD END  1          EMS  2015  December  Thursday    16   \n",
       "\n",
       "        emergency_call  \n",
       "0    BACK PAINS/INJURY  \n",
       "1   DIABETIC EMERGENCY  \n",
       "2        GAS-ODOR/LEAK  \n",
       "3    CARDIAC EMERGENCY  \n",
       "4            DIZZINESS  "
      ]
     },
     "execution_count": 45,
     "metadata": {},
     "output_type": "execute_result"
    }
   ],
   "source": [
    "data.head()"
   ]
  },
  {
   "cell_type": "code",
   "execution_count": 46,
   "metadata": {},
   "outputs": [
    {
     "data": {
      "text/plain": [
       "array([' BACK PAINS/INJURY', ' DIABETIC EMERGENCY', ' GAS-ODOR/LEAK',\n",
       "       ' CARDIAC EMERGENCY', ' DIZZINESS', ' HEAD INJURY',\n",
       "       ' NAUSEA/VOMITING', ' RESPIRATORY EMERGENCY', ' SYNCOPAL EPISODE',\n",
       "       ' VEHICLE ACCIDENT -', ' VEHICLE ACCIDENT', ' DISABLED VEHICLE -',\n",
       "       ' APPLIANCE FIRE', ' GENERAL WEAKNESS',\n",
       "       ' CARBON MONOXIDE DETECTOR', ' UNKNOWN MEDICAL EMERGENCY',\n",
       "       ' UNRESPONSIVE SUBJECT', ' ALTERED MENTAL STATUS', ' FIRE ALARM',\n",
       "       ' CVA/STROKE', ' ROAD OBSTRUCTION -', ' SUBJECT IN PAIN',\n",
       "       ' HEMORRHAGING', ' FALL VICTIM', ' ASSAULT VICTIM', ' SEIZURES',\n",
       "       ' MEDICAL ALERT ALARM', ' ABDOMINAL PAINS', ' PUMP DETAIL',\n",
       "       ' FIRE INVESTIGATION', ' OVERDOSE', ' MATERNITY',\n",
       "       ' UNCONSCIOUS SUBJECT', ' CHOKING', ' LACERATIONS',\n",
       "       ' TRASH/DUMPSTER FIRE', ' UNKNOWN TYPE FIRE', ' BUILDING FIRE',\n",
       "       ' ELECTRICAL FIRE OUTSIDE', ' DEBRIS/FLUIDS ON HIGHWAY',\n",
       "       ' DEBRIS/FLUIDS ON HIGHWAY -', ' FEVER', ' ALLERGIC REACTION',\n",
       "       ' VEHICLE LEAKING FUEL -', ' FRACTURE', ' BURN VICTIM',\n",
       "       ' RESCUE - GENERAL', ' WOODS/FIELD FIRE', ' FIRE SPECIAL SERVICE',\n",
       "       ' VEHICLE FIRE', ' VEHICLE FIRE -', ' WARRANT SERVICE',\n",
       "       ' S/B AT HELICOPTER LANDING', ' EMS SPECIAL SERVICE',\n",
       "       ' HAZARDOUS ROAD CONDITIONS -', ' RESCUE - ELEVATOR',\n",
       "       ' DEHYDRATION', ' SHOOTING', ' POISONING', ' TRANSFERRED CALL',\n",
       "       ' RESCUE - TECHNICAL', ' VEHICLE LEAKING FUEL', ' EYE INJURY',\n",
       "       ' ELECTROCUTION', ' STABBING', ' FIRE POLICE NEEDED',\n",
       "       ' AMPUTATION', ' ANIMAL BITE', ' HAZARDOUS MATERIALS INCIDENT',\n",
       "       ' TRAIN CRASH', ' RESCUE - WATER', ' CARDIAC ARREST',\n",
       "       ' PLANE CRASH', ' HEAT EXHAUSTION', ' ACTIVE SHOOTER',\n",
       "       ' DISABLED VEHICLE', ' POLICE INFORMATION', ' BOMB DEVICE FOUND',\n",
       "       ' INDUSTRIAL ACCIDENT', ' DROWNING', ' SUSPICIOUS',\n",
       "       ' ARMED SUBJECT', ' STANDBY FOR ANOTHER CO', ' HIT + RUN',\n",
       "       ' SUICIDE THREAT', ' ANIMAL COMPLAINT', ' PRISONER IN CUSTODY',\n",
       "       ' SUICIDE ATTEMPT', ' PUBLIC SERVICE', ' BOMB THREAT',\n",
       "       ' ELEVATOR EMERGENCY', ' HAZARDOUS ROAD CONDITIONS'], dtype=object)"
      ]
     },
     "execution_count": 46,
     "metadata": {},
     "output_type": "execute_result"
    }
   ],
   "source": [
    "data['emergency_call'].unique()"
   ]
  },
  {
   "cell_type": "code",
   "execution_count": 47,
   "metadata": {},
   "outputs": [],
   "source": [
    "emergency_call=data['emergency_call'].value_counts()"
   ]
  },
  {
   "cell_type": "code",
   "execution_count": 48,
   "metadata": {},
   "outputs": [
    {
     "data": {
      "text/plain": [
       " VEHICLE ACCIDENT -              98401\n",
       " DISABLED VEHICLE -              31871\n",
       " FIRE ALARM                      24459\n",
       " VEHICLE ACCIDENT                24081\n",
       " FALL VICTIM                     21258\n",
       " RESPIRATORY EMERGENCY           21159\n",
       " CARDIAC EMERGENCY               20620\n",
       " ROAD OBSTRUCTION -              14134\n",
       " SUBJECT IN PAIN                 12004\n",
       " HEAD INJURY                     11105\n",
       " UNKNOWN MEDICAL EMERGENCY        7171\n",
       " SYNCOPAL EPISODE                 7087\n",
       " GENERAL WEAKNESS                 7070\n",
       " SEIZURES                         6946\n",
       " ALTERED MENTAL STATUS            6184\n",
       " FIRE INVESTIGATION               6036\n",
       " MEDICAL ALERT ALARM              6022\n",
       " ABDOMINAL PAINS                  5802\n",
       " UNCONSCIOUS SUBJECT              5374\n",
       " HEMORRHAGING                     5264\n",
       " OVERDOSE                         5242\n",
       " CVA/STROKE                       5234\n",
       " NAUSEA/VOMITING                  4920\n",
       " GAS-ODOR/LEAK                    4468\n",
       " HAZARDOUS ROAD CONDITIONS -      4395\n",
       " CARDIAC ARREST                   3986\n",
       " BUILDING FIRE                    3888\n",
       " DIABETIC EMERGENCY               3737\n",
       " DIZZINESS                        3348\n",
       " BACK PAINS/INJURY                3142\n",
       "                                 ...  \n",
       " SHOOTING                          141\n",
       " DEBRIS/FLUIDS ON HIGHWAY -        139\n",
       " POISONING                         138\n",
       " STABBING                          122\n",
       " PUMP DETAIL                       108\n",
       " TRANSFERRED CALL                   86\n",
       " AMPUTATION                         65\n",
       " HAZARDOUS MATERIALS INCIDENT       64\n",
       " RESCUE - TECHNICAL                 52\n",
       " DROWNING                           24\n",
       " ELECTROCUTION                      22\n",
       " INDUSTRIAL ACCIDENT                21\n",
       " TRAIN CRASH                        18\n",
       " STANDBY FOR ANOTHER CO             14\n",
       " BOMB DEVICE FOUND                   9\n",
       " PLANE CRASH                         9\n",
       " DISABLED VEHICLE                    6\n",
       " WARRANT SERVICE                     4\n",
       " POLICE INFORMATION                  4\n",
       " SUSPICIOUS                          4\n",
       " ACTIVE SHOOTER                      3\n",
       " ARMED SUBJECT                       2\n",
       " BOMB THREAT                         2\n",
       " SUICIDE ATTEMPT                     2\n",
       " SUICIDE THREAT                      2\n",
       " PUBLIC SERVICE                      2\n",
       " HIT + RUN                           1\n",
       " HAZARDOUS ROAD CONDITIONS           1\n",
       " PRISONER IN CUSTODY                 1\n",
       " ANIMAL COMPLAINT                    1\n",
       "Name: emergency_call, Length: 92, dtype: int64"
      ]
     },
     "execution_count": 48,
     "metadata": {},
     "output_type": "execute_result"
    }
   ],
   "source": [
    "emergency_call"
   ]
  },
  {
   "cell_type": "code",
   "execution_count": 49,
   "metadata": {},
   "outputs": [],
   "source": [
    "emergency_call_percentage = emergency_call.groupby(level=0).apply(lambda x:round(100*x/float(emergency_call.sum())))"
   ]
  },
  {
   "cell_type": "code",
   "execution_count": 50,
   "metadata": {},
   "outputs": [],
   "source": [
    "emergency_call_percentage=emergency_call_percentage.head(38)"
   ]
  },
  {
   "cell_type": "code",
   "execution_count": 54,
   "metadata": {},
   "outputs": [
    {
     "data": {
      "image/png": "[encoded data removed]",
      "text/plain": [
       "<Figure size 1440x432 with 1 Axes>"
      ]
     },
     "metadata": {},
     "output_type": "display_data"
    }
   ],
   "source": [
    "sns.set(rc={'figure.figsize':(20, 6)})\n",
    "emergency_call_percentage.plot(kind='bar')\n",
    "plt.xlabel('type_of_emergency_calls', fontdict=font)\n",
    "plt.ylabel('Percentage of Calls', fontdict=font)\n",
    "plt.xticks(rotation=90)\n",
    "plt.title('Calls/types_of_emergency_calls', fontdict=font)\n",
    "plt.savefig(\"moh3.png\")"
   ]
  },
  {
   "cell_type": "code",
   "execution_count": null,
   "metadata": {},
   "outputs": [],
   "source": []
  }
 ],
 "metadata": {
  "kernelspec": {
   "display_name": "Python 3",
   "language": "python",
   "name": "python3"
  },
  "language_info": {
   "codemirror_mode": {
    "name": "ipython",
    "version": 3
   },
   "file_extension": ".py",
   "mimetype": "text/x-python",
   "name": "python",
   "nbconvert_exporter": "python",
   "pygments_lexer": "ipython3",
   "version": "3.6.5"
  }
 },
 "nbformat": 4,
 "nbformat_minor": 2
}
